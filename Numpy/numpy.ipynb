{
 "cells": [
  {
   "cell_type": "markdown",
   "metadata": {},
   "source": [
    "# Numpy work"
   ]
  },
  {
   "cell_type": "code",
   "execution_count": 28,
   "metadata": {},
   "outputs": [],
   "source": [
    "import numpy as np\n",
    "from PIL import Image"
   ]
  },
  {
   "cell_type": "code",
   "execution_count": 14,
   "metadata": {},
   "outputs": [
    {
     "data": {
      "text/plain": [
       "[9, 12, 4, 5, 6, 1, 88]"
      ]
     },
     "execution_count": 14,
     "metadata": {},
     "output_type": "execute_result"
    }
   ],
   "source": [
    "# Create List\n",
    "mylist = [9,12,4,5,6,1,88]\n",
    "mylist"
   ]
  },
  {
   "cell_type": "code",
   "execution_count": 21,
   "metadata": {},
   "outputs": [
    {
     "data": {
      "text/plain": [
       "2"
      ]
     },
     "execution_count": 21,
     "metadata": {},
     "output_type": "execute_result"
    }
   ],
   "source": [
    "# Making Numpy Array\n",
    "arr = np.array(mylist)\n",
    "arr\n",
    "# Create Mulltidimentional Array\n",
    "myList = [[1,2,3,4],[5,6,7,8]]\n",
    "myList\n",
    "# Convert to numpy array\n",
    "arr = np.array(myList)\n",
    "# Access Complete single Row\n",
    "arr[0]\n",
    "# Access Single Value\n",
    "arr[0][1]"
   ]
  },
  {
   "cell_type": "markdown",
   "metadata": {},
   "source": [
    "# All Functions "
   ]
  },
  {
   "cell_type": "code",
   "execution_count": 22,
   "metadata": {},
   "outputs": [
    {
     "data": {
      "text/plain": [
       "array([ 0,  2,  4,  6,  8, 10])"
      ]
     },
     "execution_count": 22,
     "metadata": {},
     "output_type": "execute_result"
    }
   ],
   "source": [
    "arr.max()\n",
    "arr.min()\n",
    "arr.argmax() # return max value index\n",
    "arr.argmin() # return min value index\n",
    "np.arange(0,11,2) # gives sequence numbers with the gap 2"
   ]
  },
  {
   "cell_type": "markdown",
   "metadata": {},
   "source": [
    "# Numpy Array"
   ]
  },
  {
   "cell_type": "code",
   "execution_count": 23,
   "metadata": {},
   "outputs": [
    {
     "data": {
      "text/plain": [
       "array([[0., 3., 0.],\n",
       "       [0., 0., 0.],\n",
       "       [0., 0., 0.]])"
      ]
     },
     "execution_count": 23,
     "metadata": {},
     "output_type": "execute_result"
    }
   ],
   "source": [
    "np_array = np.zeros((3,3))\n",
    "np_array[0][1] = 3;\n",
    "np_array"
   ]
  },
  {
   "cell_type": "code",
   "execution_count": 24,
   "metadata": {},
   "outputs": [
    {
     "data": {
      "text/plain": [
       "array([[ 1.,  1.,  1.],\n",
       "       [ 1., 12.,  1.],\n",
       "       [ 1.,  1.,  1.]])"
      ]
     },
     "execution_count": 24,
     "metadata": {},
     "output_type": "execute_result"
    }
   ],
   "source": [
    "np_array = np.ones((3,3))\n",
    "np_array[1][1] = 12\n",
    "np_array"
   ]
  },
  {
   "cell_type": "code",
   "execution_count": 27,
   "metadata": {},
   "outputs": [
    {
     "data": {
      "text/plain": [
       "array([[[0., 0.],\n",
       "        [0., 0.],\n",
       "        [0., 0.]],\n",
       "\n",
       "       [[0., 0.],\n",
       "        [0., 0.],\n",
       "        [0., 0.]]])"
      ]
     },
     "execution_count": 27,
     "metadata": {},
     "output_type": "execute_result"
    }
   ],
   "source": [
    "# An Empty array of 2 rows and 3 columns will be created!\n",
    "np_array = np.empty((2,3))\n",
    "np_array\n",
    "# 2 Times (2,3) Array will be created\n",
    "np_array = np.empty((2,3,2))\n",
    "np_array"
   ]
  },
  {
   "cell_type": "markdown",
   "metadata": {},
   "source": [
    "# Random Numbers"
   ]
  },
  {
   "cell_type": "code",
   "execution_count": 23,
   "metadata": {},
   "outputs": [
    {
     "data": {
      "text/plain": [
       "0"
      ]
     },
     "execution_count": 23,
     "metadata": {},
     "output_type": "execute_result"
    }
   ],
   "source": [
    "np.random.randint(0,10) # generate random numbers everytime"
   ]
  },
  {
   "cell_type": "code",
   "execution_count": 28,
   "metadata": {},
   "outputs": [
    {
     "data": {
      "text/plain": [
       "array([[391, 221, 153],\n",
       "       [139, 272, 188],\n",
       "       [ 94, 123,  60]])"
      ]
     },
     "execution_count": 28,
     "metadata": {},
     "output_type": "execute_result"
    }
   ],
   "source": [
    "np.random.randint(0,500,(3,3)) # generate random 2D array everytime you refresh"
   ]
  },
  {
   "cell_type": "code",
   "execution_count": 32,
   "metadata": {},
   "outputs": [
    {
     "data": {
      "text/plain": [
       "array([6, 7, 9, 8, 4, 8, 5, 0, 5, 8])"
      ]
     },
     "execution_count": 32,
     "metadata": {},
     "output_type": "execute_result"
    }
   ],
   "source": [
    "np.random.seed(101) # it won't let change the values everytime you refresh\n",
    "np.random.randint(0,10)\n",
    "np.random.randint(0,10,10) # generate 1D array of random numbers"
   ]
  },
  {
   "cell_type": "code",
   "execution_count": 47,
   "metadata": {},
   "outputs": [
    {
     "name": "stdout",
     "output_type": "stream",
     "text": [
      "2\n"
     ]
    },
    {
     "data": {
      "text/plain": [
       "array([ 0,  2,  4,  6,  8, 10, 12, 14, 16, 18])"
      ]
     },
     "execution_count": 47,
     "metadata": {},
     "output_type": "execute_result"
    }
   ],
   "source": [
    "num = input()\n",
    "np.arange(0,20,int(num))"
   ]
  },
  {
   "cell_type": "markdown",
   "metadata": {},
   "source": [
    "# A Multidimensional Array Object"
   ]
  },
  {
   "cell_type": "markdown",
   "metadata": {},
   "source": [
    "### One of the key features of NumPy is its N-dimensional array object, or ndarray, which is a fast, flexible container for large datasets in Python"
   ]
  },
  {
   "cell_type": "code",
   "execution_count": 10,
   "metadata": {},
   "outputs": [
    {
     "data": {
      "text/plain": [
       "dtype('float64')"
      ]
     },
     "execution_count": 10,
     "metadata": {},
     "output_type": "execute_result"
    }
   ],
   "source": [
    "# it will create 2 rows and 3 columns\n",
    "data = np.random.randn(2,3)\n",
    "data\n",
    "# Multiple Complete data with 10\n",
    "data*10\n",
    "# Find out the shape \n",
    "# Shape function will tell how many rows and columns exist\n",
    "data.shape\n",
    "# If you know the datatype \n",
    "data.dtype"
   ]
  },
  {
   "cell_type": "markdown",
   "metadata": {},
   "source": [
    "# Data Types for ndarrays"
   ]
  },
  {
   "cell_type": "code",
   "execution_count": 38,
   "metadata": {},
   "outputs": [
    {
     "data": {
      "text/plain": [
       "dtype('int32')"
      ]
     },
     "execution_count": 38,
     "metadata": {},
     "output_type": "execute_result"
    }
   ],
   "source": [
    "# Make Float datatype array\n",
    "arr = np.array([1,2,3] , dtype=np.float64)\n",
    "# Make Int Datatype Array\n",
    "arr = np.array([1,2,3] , dtype=np.int32)\n",
    "arr.dtype\n",
    "\n",
    "\n",
    "# Convert From different datatype to Different Datatype\n",
    "arr = np.array([1,2,4,5] , dtype=np.float64)\n",
    "arr = arr.astype(np.int32)\n",
    "arr.dtype"
   ]
  },
  {
   "cell_type": "markdown",
   "metadata": {},
   "source": [
    "# Arithmetic with NumPy Arrays"
   ]
  },
  {
   "cell_type": "code",
   "execution_count": 44,
   "metadata": {},
   "outputs": [
    {
     "data": {
      "text/plain": [
       "array([[False,  True,  True,  True],\n",
       "       [ True,  True, False, False]])"
      ]
     },
     "execution_count": 44,
     "metadata": {},
     "output_type": "execute_result"
    }
   ],
   "source": [
    "# If we want to perform all arithimetic operation on each index OR  any other operation\n",
    "# Jut write a single line of code.\n",
    "arr = np.array([[2,7,5,10],[11,66,5,1]])\n",
    "arr\n",
    "arr2 = np.array([[12,6,4,3],[10,55,6,8]])\n",
    "arr_bool = arr > arr2\n",
    "arr_sub = arr - arr2\n",
    "arr_add = arr + arr2\n",
    "arr_mul = arr * arr2\n",
    "arr_div = arr/ arr2\n",
    "\n",
    "arr_bool"
   ]
  },
  {
   "cell_type": "code",
   "execution_count": 48,
   "metadata": {},
   "outputs": [
    {
     "data": {
      "text/plain": [
       "array([[0, 1, 1, 1],\n",
       "       [1, 1, 0, 0]])"
      ]
     },
     "execution_count": 48,
     "metadata": {},
     "output_type": "execute_result"
    }
   ],
   "source": [
    "# Use of WHERE function\n",
    "# let suppose if you need to put values in array if TRUE or some other value if FALSE\n",
    "# Put 0 Where False occur\n",
    "# Put 1 Where True occur\n",
    "np.where(arr > arr2 , 1 , 0)"
   ]
  },
  {
   "cell_type": "code",
   "execution_count": 49,
   "metadata": {},
   "outputs": [
    {
     "data": {
      "text/plain": [
       "array([[  24,   42,   20,   30],\n",
       "       [ 110, 3630,   30,    8]])"
      ]
     },
     "execution_count": 49,
     "metadata": {},
     "output_type": "execute_result"
    }
   ],
   "source": [
    "# If you copy the array values\n",
    "arr_mul_copy = arr_mul.copy()\n",
    "arr_mul_copy"
   ]
  },
  {
   "cell_type": "markdown",
   "metadata": {},
   "source": [
    "# Indexing with slices"
   ]
  },
  {
   "cell_type": "code",
   "execution_count": 12,
   "metadata": {},
   "outputs": [
    {
     "data": {
      "text/plain": [
       "array([[2, 3],\n",
       "       [5, 6]])"
      ]
     },
     "execution_count": 12,
     "metadata": {},
     "output_type": "execute_result"
    }
   ],
   "source": [
    "arr = np.array([[1,2,3],[4,5,6],[7,8,9]])\n",
    "# get First 2 rows\n",
    "arr_slice = arr[:2]\n",
    "# Cut the Slice from index 1 to 3, \n",
    "arr_slice = arr[1:3]\n",
    "arr_slice\n",
    "# I need first 2 rows and 1st column which is [2 , 5]\n",
    "arr[:2,1]\n",
    "# Take All Rows and take all columns from 0 to 1\n",
    "arr[:,:1]\n",
    "# Take all rows and take online column index 1\n",
    "arr[:,1]\n",
    "# Take all rows from 0 to 2 AND take all columns except 1 to end\n",
    "arr[:2,1:]"
   ]
  },
  {
   "cell_type": "code",
   "execution_count": 16,
   "metadata": {},
   "outputs": [
    {
     "data": {
      "image/png": "[encoded data removed]",
      "text/plain": [
       "<PIL.PngImagePlugin.PngImageFile image mode=RGBA size=485x371 at 0x1CCE7AE11F0>"
      ]
     },
     "execution_count": 16,
     "metadata": {},
     "output_type": "execute_result"
    }
   ],
   "source": [
    "# Some Moe slicing with picture!\n",
    "img = Image.open(\"image.png\") \n",
    "img"
   ]
  },
  {
   "cell_type": "code",
   "execution_count": 19,
   "metadata": {},
   "outputs": [
    {
     "data": {
      "text/plain": [
       "array([[ 1.        ,  1.        , -0.29526163, -0.51640447],\n",
       "       [-1.27379699,  1.        , -0.23765298,  1.        ],\n",
       "       [ 1.        , -0.25013571,  1.        , -1.0008301 ],\n",
       "       [-0.96838265, -0.16731555,  1.        , -0.92303356],\n",
       "       [ 1.        ,  1.        ,  1.        , -0.93024473],\n",
       "       [-0.80642774, -0.03395779, -0.38719342, -0.99191301],\n",
       "       [ 1.        ,  1.        ,  1.        ,  1.        ]])"
      ]
     },
     "execution_count": 19,
     "metadata": {},
     "output_type": "execute_result"
    }
   ],
   "source": [
    "# Change the value with boolian condition\n",
    "arr = np.random.randn(7,4)\n",
    "arr[arr > 0] = 1\n",
    "arr"
   ]
  },
  {
   "cell_type": "markdown",
   "metadata": {},
   "source": [
    "# Expressing Conditional Logic as Array Operations"
   ]
  },
  {
   "cell_type": "code",
   "execution_count": 30,
   "metadata": {},
   "outputs": [
    {
     "data": {
      "image/png": "[encoded data removed]",
      "text/plain": [
       "<PIL.PngImagePlugin.PngImageFile image mode=RGBA size=1200x434 at 0x1CCE8B4C1C0>"
      ]
     },
     "execution_count": 30,
     "metadata": {},
     "output_type": "execute_result"
    }
   ],
   "source": [
    "# Understanding Zip Function\n",
    "img = Image.open('zip.png')\n",
    "img"
   ]
  },
  {
   "cell_type": "code",
   "execution_count": 38,
   "metadata": {},
   "outputs": [
    {
     "name": "stdout",
     "output_type": "stream",
     "text": [
      "(1, 'a')\n",
      "(2, 'b')\n",
      "(3, 'c')\n",
      "(4, 'd')\n",
      "(5, 'e')\n"
     ]
    },
    {
     "data": {
      "text/plain": [
       "[(1, 'a'), (2, 'b'), (3, 'c'), (4, 'd'), (5, 'e')]"
      ]
     },
     "execution_count": 38,
     "metadata": {},
     "output_type": "execute_result"
    }
   ],
   "source": [
    "arr = np.array([1,2,3,4,5])\n",
    "char_arr = np.array(['a','b','c','d','e'])\n",
    "for i in zip(arr,char_arr):\n",
    "    print(i)\n",
    "\n",
    "zipped = list(zip(arr,char_arr))\n",
    "zipped"
   ]
  },
  {
   "cell_type": "code",
   "execution_count": 42,
   "metadata": {},
   "outputs": [
    {
     "name": "stdout",
     "output_type": "stream",
     "text": [
      "[1.1, 2.2, 1.3, 1.4, 2.5]\n"
     ]
    },
    {
     "data": {
      "text/plain": [
       "array([1.1, 2.2, 1.3, 1.4, 2.5])"
      ]
     },
     "execution_count": 42,
     "metadata": {},
     "output_type": "execute_result"
    }
   ],
   "source": [
    "# Suppose we wanted to take a value from xarr whenever the corresponding value in\n",
    "# cond is True, and otherwise take the value from yarr\n",
    "xarr = np.array([1.1, 1.2, 1.3, 1.4, 1.5])\n",
    "yarr = np.array([2.1, 2.2, 2.3, 2.4, 2.5])\n",
    "cond = np.array([True, False, True, True, False])\n",
    "# In if else statement if c is true it will put value x in result otherwise it will put yin result...\n",
    "result = [(x if c else y) for x, y, c in zip(xarr, yarr, cond)]\n",
    "print(result)\n",
    "# This has multiple problems. First, it will not be very fast for large arrays (because all the work is being done in interpreted Python code). Second, it will not work with\n",
    "# multidimensional arrays.\n",
    "# ----ALTERNATIVE Method of same Problem---\n",
    "# It put the values in the array\n",
    "result = np.where(cond,xarr,yarr)\n",
    "result"
   ]
  },
  {
   "cell_type": "markdown",
   "metadata": {},
   "source": [
    "# Mathematical and Statistical Methods"
   ]
  },
  {
   "cell_type": "code",
   "execution_count": 80,
   "metadata": {},
   "outputs": [
    {
     "data": {
      "text/plain": [
       "array([ 0,  1,  3,  6, 10, 15, 21, 28], dtype=int32)"
      ]
     },
     "execution_count": 80,
     "metadata": {},
     "output_type": "execute_result"
    }
   ],
   "source": [
    "arr = np.array([0, 1, 2, 3, 4, 5, 6, 7])\n",
    "arr.sum()\n",
    "# OR\n",
    "np.sum(arr)\n",
    "arr.mean() \n",
    "# OR\n",
    "np.mean(arr)\n",
    "# Cumulative Sum\n",
    "arr.cumsum()\n",
    "\n",
    "\n",
    "# Learn about axises \n",
    "arr = np.array([[0, 1, 2, 3, 4, 5, 6, 7] , [12,13,14,15,16,17,18,19]])\n",
    "# Axis 1 means sum Row wise\n",
    "np.sum(arr , axis=1)\n",
    "# Axis 0 means sum Columns wise\n",
    "np.sum(arr,axis=0)\n",
    "# We can apply axises operaton in cumulative sum also"
   ]
  },
  {
   "cell_type": "markdown",
   "metadata": {},
   "source": [
    "# Methods for Boolean Arrays"
   ]
  },
  {
   "cell_type": "code",
   "execution_count": 85,
   "metadata": {},
   "outputs": [
    {
     "data": {
      "text/plain": [
       "94"
      ]
     },
     "execution_count": 85,
     "metadata": {},
     "output_type": "execute_result"
    }
   ],
   "source": [
    "arr = np.random.randn(180)\n",
    "# Sum values which is greater than 0\n",
    "(arr > 0).sum()"
   ]
  },
  {
   "cell_type": "code",
   "execution_count": 92,
   "metadata": {},
   "outputs": [
    {
     "data": {
      "text/plain": [
       "False"
      ]
     },
     "execution_count": 92,
     "metadata": {},
     "output_type": "execute_result"
    }
   ],
   "source": [
    "bools = np.array([False, False, True, False])\n",
    "# whether one or more values in an array is True\n",
    "bools.any()\n",
    "#  all checks if every value is True\n",
    "bools.all()"
   ]
  },
  {
   "cell_type": "markdown",
   "metadata": {},
   "source": [
    "# Sorting"
   ]
  },
  {
   "cell_type": "code",
   "execution_count": 96,
   "metadata": {},
   "outputs": [
    {
     "data": {
      "text/plain": [
       "array([-0.52656615, -0.4707844 ,  0.04376296,  0.72829246,  1.09878777,\n",
       "        1.33379328])"
      ]
     },
     "execution_count": 96,
     "metadata": {},
     "output_type": "execute_result"
    }
   ],
   "source": [
    "arr = np.random.randn(6)\n",
    "arr.sort()\n",
    "arr"
   ]
  },
  {
   "cell_type": "markdown",
   "metadata": {},
   "source": [
    "# Unique and Other Set Logic"
   ]
  },
  {
   "cell_type": "code",
   "execution_count": 110,
   "metadata": {},
   "outputs": [
    {
     "data": {
      "text/plain": [
       "array([ True,  True,  True, False,  True, False,  True])"
      ]
     },
     "execution_count": 110,
     "metadata": {},
     "output_type": "execute_result"
    }
   ],
   "source": [
    "names = np.array(['Bob', 'Joe', 'Will', 'Bob', 'Will', 'Joe', 'Joe'])\n",
    "# Tells the unique values\n",
    "np.unique(names)\n",
    "\n",
    "# Three Kind of similar functions\n",
    "np.sort(names) # all names in sorted order in array form\n",
    "sorted(names) #all names in sorted order in List form\n",
    "sorted(set(names)) # Got unique List of Names\n",
    "\n",
    "\n",
    "# Another function, np.in1d, tests membership of the values in one array in another, returning a boolean array:\n",
    "values = np.array([6, 0, 0, 3, 2, 5, 6])\n",
    "np.in1d(values , [6,2,0])  # it will match 6 with [6,2,0] and if any of the value matches it will return True\n"
   ]
  },
  {
   "cell_type": "code",
   "execution_count": 112,
   "metadata": {},
   "outputs": [
    {
     "data": {
      "image/png": "[encoded data removed]",
      "text/plain": [
       "<PIL.PngImagePlugin.PngImageFile image mode=RGBA size=454x163 at 0x1CCE8D02190>"
      ]
     },
     "execution_count": 112,
     "metadata": {},
     "output_type": "execute_result"
    }
   ],
   "source": [
    "# Some More operations\n",
    "img = Image.open('array_manu.png')\n",
    "img"
   ]
  },
  {
   "cell_type": "markdown",
   "metadata": {},
   "source": [
    "#  File Input and Output with Arrays"
   ]
  },
  {
   "cell_type": "code",
   "execution_count": 140,
   "metadata": {},
   "outputs": [
    {
     "data": {
      "text/plain": [
       "array([  0,   1,   2,   3,   4,   5,   6,   7,   8,   9,  10,  11,  12,\n",
       "        13,  14,  15,  16,  17,  18,  19,  20,  21,  22,  23,  24,  25,\n",
       "        26,  27,  28,  29,  30,  31,  32,  33,  34,  35,  36,  37,  38,\n",
       "        39,  40,  41,  42,  43,  44,  45,  46,  47,  48,  49,  50,  51,\n",
       "        52,  53,  54,  55,  56,  57,  58,  59,  60,  61,  62,  63,  64,\n",
       "        65,  66,  67,  68,  69,  70,  71,  72,  73,  74,  75,  76,  77,\n",
       "        78,  79,  80,  81,  82,  83,  84,  85,  86,  87,  88,  89,  90,\n",
       "        91,  92,  93,  94,  95,  96,  97,  98,  99, 100, 101, 102, 103,\n",
       "       104, 105, 106, 107, 108, 109, 110, 111, 112, 113, 114, 115, 116,\n",
       "       117, 118, 119, 120, 121, 122, 123, 124, 125, 126, 127, 128, 129,\n",
       "       130, 131, 132, 133, 134, 135, 136, 137, 138, 139, 140, 141, 142,\n",
       "       143, 144, 145, 146, 147, 148, 149, 150, 151, 152, 153, 154, 155,\n",
       "       156, 157, 158, 159, 160, 161, 162, 163, 164, 165, 166, 167, 168,\n",
       "       169, 170, 171, 172, 173, 174, 175, 176, 177, 178, 179])"
      ]
     },
     "execution_count": 140,
     "metadata": {},
     "output_type": "execute_result"
    }
   ],
   "source": [
    "# NumPy is able to save and load data to and from disk either in text or binary format\n",
    "# np.save and np.load are the two workhorse functions for efficiently saving and loading array data on disk.\n",
    "arr = np.arange(180)\n",
    "np.save('saved_array' , arr) # saved the file in your working directory\n",
    "np.load('saved_array.npy') # load the data\n",
    "\n",
    "#  save multiple arrays in an uncompressed archive\n",
    "arr2 = np.arange(50)\n",
    "np.savez('saved_array_dual' , a=arr , b=arr2)\n",
    "load_array = np.load('saved_array_dual.npz')\n",
    "load_array['b'] # print arr2\n",
    "load_array['a'] # print arr"
   ]
  },
  {
   "cell_type": "markdown",
   "metadata": {},
   "source": [
    "# Linear Algebra"
   ]
  },
  {
   "cell_type": "code",
   "execution_count": 147,
   "metadata": {},
   "outputs": [
    {
     "data": {
      "text/plain": [
       "array([[ 28,  64],\n",
       "       [ 67, 181]])"
      ]
     },
     "execution_count": 147,
     "metadata": {},
     "output_type": "execute_result"
    }
   ],
   "source": [
    "x = np.array([[1, 2, 3], [4, 5, 6]])\n",
    "y = np.array([[6, 23], [-1, 7], [8, 9]])\n",
    "# Multiplying Two arrays \n",
    "x.dot(y)\n",
    "# or\n",
    "np.dot(x,y)\n",
    "# or\n",
    "x @ y\n",
    "\n",
    "# multipling it with ones\n",
    "np.dot(x,np.ones(3))\n"
   ]
  },
  {
   "cell_type": "code",
   "execution_count": 164,
   "metadata": {},
   "outputs": [
    {
     "data": {
      "text/plain": [
       "array([[-6.72928362, -2.35537706,  4.79647614,  7.16840362,  2.84895516],\n",
       "       [ 0.        , -4.69557283, -2.56212354, -4.72109764, -2.6145721 ],\n",
       "       [ 0.        ,  0.        , -2.0330665 ,  3.9763542 , -2.48730201],\n",
       "       [ 0.        ,  0.        ,  0.        , -2.55837211, -0.47908376],\n",
       "       [ 0.        ,  0.        ,  0.        ,  0.        ,  0.18289091]])"
      ]
     },
     "execution_count": 164,
     "metadata": {},
     "output_type": "execute_result"
    }
   ],
   "source": [
    "# numpy.linalg has a standard set of matrix decompositions and things like inverse and determinant.\n",
    "from numpy.linalg import inv, qr\n",
    "\n",
    "X = np.random.randn(5, 5)\n",
    "mat = X.T.dot(X)\n",
    "inv(mat)\n",
    "q, r = qr(mat)\n",
    "r\n"
   ]
  },
  {
   "cell_type": "markdown",
   "metadata": {},
   "source": [
    "# Random Walks"
   ]
  },
  {
   "cell_type": "code",
   "execution_count": 165,
   "metadata": {},
   "outputs": [],
   "source": [
    "import random"
   ]
  },
  {
   "cell_type": "code",
   "execution_count": 188,
   "metadata": {},
   "outputs": [
    {
     "data": {
      "text/plain": [
       "-1"
      ]
     },
     "execution_count": 188,
     "metadata": {},
     "output_type": "execute_result"
    }
   ],
   "source": [
    "# a simple random walk starting at 0 with steps of 1 and –1 occurring with equal probability.\n",
    "pos = 0\n",
    "walk = [pos]\n",
    "steps = 100\n",
    "for i in range(steps):\n",
    "    step = 1 if random.randint(0,1) else -1\n",
    "    pos +=step\n",
    "    walk.append(pos)\n",
    "walk[:100]\n",
    "\n",
    "# Alternative Method. We can perform this problem like this too\n",
    "arr_rand  = np.random.randint(0,2 , size=steps)\n",
    "# We need the 1,-1 values that's why we write where function \n",
    "result = np.where(arr_rand > 0 , -1 , 1 )\n",
    "walk = result.cumsum()\n",
    "walk.max()\n",
    "\n",
    "# Write mulpiple sizes in the form\n",
    "# size = (steps,more_steps)"
   ]
  },
  {
   "cell_type": "code",
   "execution_count": null,
   "metadata": {},
   "outputs": [],
   "source": []
  }
 ],
 "metadata": {
  "kernelspec": {
   "display_name": "Python 3",
   "language": "python",
   "name": "python3"
  },
  "language_info": {
   "codemirror_mode": {
    "name": "ipython",
    "version": 3
   },
   "file_extension": ".py",
   "mimetype": "text/x-python",
   "name": "python",
   "nbconvert_exporter": "python",
   "pygments_lexer": "ipython3",
   "version": "3.8.3"
  }
 },
 "nbformat": 4,
 "nbformat_minor": 4
}
